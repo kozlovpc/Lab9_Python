{
 "cells": [
  {
   "cell_type": "markdown",
   "metadata": {},
   "source": [
    "**1. Имеются следующие данные о транзакциях в период с 01.12.2010 по 12.09.2011:**\n",
    "\n",
    "* InvoiceNo — номер транзакции\n",
    "* StockCode — код товара\n",
    "* Description — описание товара\n",
    "* Quantity — количество единиц товара, добавленных в заказ\n",
    "* InvoiceDate — дата транзакции \n",
    "* UnitPrice — цена за единицу товара\n",
    "* CustomerID — id клиента\n",
    "* Country — страна, где проживает клиент\n",
    "\n",
    "**В данной задаче ссылка для считывания данных лежит в переменной path_to_file.\n",
    "Импортируйте пандас и прочитайте данные с кодировкой ISO-8859-1. Запишите полученный датафрейм в retail, а названия колонок сохраните в переменную retail_columns.**"
   ]
  },
  {
   "cell_type": "code",
   "execution_count": 7,
   "metadata": {},
   "outputs": [
    {
     "name": "stdout",
     "output_type": "stream",
     "text": [
      "  InvoiceNo StockCode                          Description  Quantity  \\\n",
      "0    536365    85123A   WHITE HANGING HEART T-LIGHT HOLDER         6   \n",
      "1    536365     71053                  WHITE METAL LANTERN         6   \n",
      "2    536365    84406B       CREAM CUPID HEARTS COAT HANGER         8   \n",
      "3    536365    84029G  KNITTED UNION FLAG HOT WATER BOTTLE         6   \n",
      "4    536365    84029E       RED WOOLLY HOTTIE WHITE HEART.         6   \n",
      "\n",
      "      InvoiceDate  UnitPrice  CustomerID         Country  \n",
      "0  12/1/2010 8:26       2.55     17850.0  United Kingdom  \n",
      "1  12/1/2010 8:26       3.39     17850.0  United Kingdom  \n",
      "2  12/1/2010 8:26       2.75     17850.0  United Kingdom  \n",
      "3  12/1/2010 8:26       3.39     17850.0  United Kingdom  \n",
      "4  12/1/2010 8:26       3.39     17850.0  United Kingdom  \n",
      "Index(['InvoiceNo', 'StockCode', 'Description', 'Quantity', 'InvoiceDate',\n",
      "       'UnitPrice', 'CustomerID', 'Country'],\n",
      "      dtype='object')\n"
     ]
    }
   ],
   "source": [
    "import pandas as pd\n",
    "\n",
    "retail = pd.read_csv('data.csv',encoding='ISO-8859-1') \n",
    "retail_columns = retail.columns\n",
    "\n",
    "print(retail.head())\n",
    "print(retail_columns)"
   ]
  },
  {
   "cell_type": "markdown",
   "metadata": {},
   "source": [
    "**2. Проверьте, встречаются ли в данных повторяющиеся наблюдения, и в качестве ответа укажите их количество. Если они есть, то удалите их из retail.**\n",
    "\n",
    "Вам понадобится len(название_колонки) и drop_duplicates()"
   ]
  },
  {
   "cell_type": "code",
   "execution_count": 9,
   "metadata": {},
   "outputs": [
    {
     "name": "stdout",
     "output_type": "stream",
     "text": [
      "541909\n",
      "536641\n",
      "5268\n"
     ]
    }
   ],
   "source": [
    "test_full = len(retail)\n",
    "test_once = len(retail.drop_duplicates())\n",
    "print(test_full)\n",
    "print(test_once)\n",
    "print(test_full - test_once)"
   ]
  },
  {
   "cell_type": "markdown",
   "metadata": {},
   "source": [
    "**3. Данные содержат в себе записи как об успешных транзакциях, так и об отмененных. Если пользователь отменил заказ, в начале номера транзакции (InvoiceNo) ставится C (canceled).**\n",
    "\n",
    "**Сколько всего транзакций отменили пользователи? Каждый отдельный тип продукта считайте за отдельную транзакцию - уникальные номера считать не надо.**\n",
    "\n",
    "Прежде чем начать, попробуйте метод retail.InvoiceNo.str[0]\n",
    "\n",
    "Далее используйте метод .unique()\n",
    "\n",
    "И сделайте выбоку по retail.loc[retail.InvoiceNo.str[0] == 'C'].shape"
   ]
  },
  {
   "cell_type": "code",
   "execution_count": 14,
   "metadata": {},
   "outputs": [
    {
     "name": "stdout",
     "output_type": "stream",
     "text": [
      "9288\n"
     ]
    }
   ],
   "source": [
    "print(retail.loc[retail.InvoiceNo.str[0] == 'C'].shape[0]) \n",
    "//Взято общще число отменённых заказов\n"
   ]
  },
  {
   "cell_type": "markdown",
   "metadata": {},
   "source": [
    "**5.Посчитайте число заказов для каждого пользователя (CustomerID) из Германии (Germany). Оставьте только тех, кто совершил более N транзакций (InvoiceNo), где N – 80% процентиль. Запишите полученные id пользователей в germany_top (не весь датафрейм, только id).**\n",
    "\n",
    "Отфильтрованные данные записаны в retail. Идентификатор заказа – InvoiceNo. Для каждого заказа в данных может встречаться более 1 строки.\n",
    "\n",
    "**Подсказка:**\n",
    "1. Начните с выборки retail.Country == 'Germany', группировки по 'CustomerID' и агрегации total_invoices=('InvoiceNo', 'nunique')\n",
    "2. Далее из полученой выборки из предыдущего шага выподните метод: название_выборки.столбец.quantile(0.8)\n",
    "3. Запишите полученные id пользователей в germany_top"
   ]
  },
  {
   "cell_type": "code",
   "execution_count": 28,
   "metadata": {},
   "outputs": [
    {
     "name": "stdout",
     "output_type": "stream",
     "text": [
      "[12471. 12472. 12474. 12476. 12481. 12500. 12569. 12600. 12619. 12621.\n",
      " 12626. 12647. 12662. 12705. 12708. 12709. 12712. 12720.]\n"
     ]
    }
   ],
   "source": [
    "retail_germany = retail[retail['Country'] == 'Germany']\n",
    "\n",
    "customer_orders = retail_germany.groupby('CustomerID')['InvoiceNo'].nunique().reset_index()\n",
    "customer_orders.columns = ['CustomerID', 'InvoiceCount']\n",
    "\n",
    "percentile_80 = customer_orders['InvoiceCount'].quantile(0.8)\n",
    "\n",
    "top_customers = customer_orders[customer_orders['InvoiceCount'] > percentile_80]\n",
    "\n",
    "germany_top = top_customers['CustomerID'].unique()\n",
    "\n",
    "print(germany_top)"
   ]
  },
  {
   "cell_type": "markdown",
   "metadata": {},
   "source": [
    "**6. Используя объект с id пользователей (germany_top), полученный на предыдущем шаге, отфильтруйте наблюдения и оставьте в данных записи только по интересующим нас юзерам. Результирующий датафрейм запишите в top_retail_germany.**\n",
    "\n",
    "Датафрейм записан в retail, нужные id пользователей – в germany_top.\n",
    "\n",
    "**Подсказка**\n",
    "Попробуйте использовать top_retail_germany = retail.loc[retail.CustomerID.isin(germany_top)]"
   ]
  },
  {
   "cell_type": "code",
   "execution_count": 30,
   "metadata": {},
   "outputs": [
    {
     "name": "stdout",
     "output_type": "stream",
     "text": [
      "       InvoiceNo StockCode                          Description  Quantity  \\\n",
      "1109      536527     22809              SET OF 6 T-LIGHTS SANTA         6   \n",
      "1110      536527     84347  ROTATING SILVER ANGELS T-LIGHT HLDR         6   \n",
      "1111      536527     84945   MULTI COLOUR SILVER T-LIGHT HOLDER        12   \n",
      "1112      536527     22242        5 HOOK HANGER MAGIC TOADSTOOL        12   \n",
      "1113      536527     22244           3 HOOK HANGER MAGIC GARDEN        12   \n",
      "...          ...       ...                                  ...       ...   \n",
      "541726    581570     22139     RETROSPOT TEA SET CERAMIC 11 PC          3   \n",
      "541727    581570     23077                  DOUGHNUT LIP GLOSS         20   \n",
      "541728    581570     20750             RED RETROSPOT MINI CASES         2   \n",
      "541729    581570     22505            MEMO BOARD COTTAGE DESIGN         4   \n",
      "541730    581570      POST                              POSTAGE         1   \n",
      "\n",
      "            InvoiceDate  UnitPrice  CustomerID  Country  \n",
      "1109    12/1/2010 13:04       2.95     12662.0  Germany  \n",
      "1110    12/1/2010 13:04       2.55     12662.0  Germany  \n",
      "1111    12/1/2010 13:04       0.85     12662.0  Germany  \n",
      "1112    12/1/2010 13:04       1.65     12662.0  Germany  \n",
      "1113    12/1/2010 13:04       1.95     12662.0  Germany  \n",
      "...                 ...        ...         ...      ...  \n",
      "541726  12/9/2011 11:59       4.95     12662.0  Germany  \n",
      "541727  12/9/2011 11:59       1.25     12662.0  Germany  \n",
      "541728  12/9/2011 11:59       7.95     12662.0  Germany  \n",
      "541729  12/9/2011 11:59       4.95     12662.0  Germany  \n",
      "541730  12/9/2011 11:59      18.00     12662.0  Germany  \n",
      "\n",
      "[4698 rows x 8 columns]\n"
     ]
    }
   ],
   "source": [
    "top_retail_germany = retail.loc[retail.CustomerID.isin(germany_top)]\n",
    "print(top_retail_germany)"
   ]
  },
  {
   "cell_type": "markdown",
   "metadata": {},
   "source": [
    "**7. Сгруппируйте top_retail_germany по коду товара (StockCode). Какой из продуктов добавляли в корзину чаще всего, кроме POST?** \n",
    "\n",
    "Note: одним заказом считается единовременная покупка любого количества товара, т.е. без учета Quantity."
   ]
  },
  {
   "cell_type": "code",
   "execution_count": 35,
   "metadata": {},
   "outputs": [
    {
     "name": "stdout",
     "output_type": "stream",
     "text": [
      "Самый популярный товар: 22326\n",
      "Количество заказов: 62\n"
     ]
    }
   ],
   "source": [
    "# Исключаем товар с кодом POST\n",
    "filtered_data = top_retail_germany[top_retail_germany['StockCode'] != 'POST']\n",
    "\n",
    "# Группируем по коду товара и считаем уникальные заказы\n",
    "product_stats = filtered_data.groupby('StockCode')['InvoiceNo'].nunique().reset_index()\n",
    "product_stats.columns = ['StockCode', 'UniqueOrders']\n",
    "\n",
    "# Сортируем и находим самый популярный товар\n",
    "top_product = product_stats.sort_values('UniqueOrders', ascending=False).iloc[0]\n",
    "\n",
    "# Результат\n",
    "print(f\"Самый популярный товар: {top_product['StockCode']}\")\n",
    "print(f\"Количество заказов: {top_product['UniqueOrders']}\")\n"
   ]
  },
  {
   "cell_type": "markdown",
   "metadata": {},
   "source": [
    "**8. Вернемся к анализу полного датасета retail. Создайте колонку Revenue с суммой покупки, используя колонки Quantity и UnitPrice.**\n",
    "\n",
    "Отфильтрованные данные записаны в retail.\n",
    "\n",
    "**Подсказка**\n",
    "retail['новый_столбец'] = retail.старый_столбец_1 * retail.старый_столбец_2"
   ]
  },
  {
   "cell_type": "code",
   "execution_count": 42,
   "metadata": {},
   "outputs": [
    {
     "name": "stdout",
     "output_type": "stream",
     "text": [
      "0         15.30\n",
      "1         20.34\n",
      "2         22.00\n",
      "3         20.34\n",
      "4         20.34\n",
      "          ...  \n",
      "541904    10.20\n",
      "541905    12.60\n",
      "541906    16.60\n",
      "541907    16.60\n",
      "541908    14.85\n",
      "Name: Revenue, Length: 531285, dtype: float64\n"
     ]
    }
   ],
   "source": [
    "retail.loc[:, 'Revenue'] = retail['Quantity'] * retail['UnitPrice']\n",
    "\n",
    "print(retail['Revenue'])"
   ]
  },
  {
   "cell_type": "code",
   "execution_count": null,
   "metadata": {},
   "outputs": [],
   "source": []
  }
 ],
 "metadata": {
  "kernelspec": {
   "display_name": "Python 3 (ipykernel)",
   "language": "python",
   "name": "python3"
  },
  "language_info": {
   "codemirror_mode": {
    "name": "ipython",
    "version": 3
   },
   "file_extension": ".py",
   "mimetype": "text/x-python",
   "name": "python",
   "nbconvert_exporter": "python",
   "pygments_lexer": "ipython3",
   "version": "3.13.2"
  }
 },
 "nbformat": 4,
 "nbformat_minor": 4
}
